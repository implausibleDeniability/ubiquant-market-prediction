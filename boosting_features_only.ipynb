{
 "cells": [
  {
   "cell_type": "code",
   "execution_count": 1,
   "id": "413c439e",
   "metadata": {},
   "outputs": [
    {
     "data": {
      "text/plain": [
       "True"
      ]
     },
     "execution_count": 1,
     "metadata": {},
     "output_type": "execute_result"
    }
   ],
   "source": [
    "import os\n",
    "import pandas as pd\n",
    "import numpy as np\n",
    "from scipy import stats\n",
    "from pathlib import Path\n",
    "from dotenv import load_dotenv\n",
    "\n",
    "from src.metrics import pearson_metric\n",
    "\n",
    "load_dotenv()"
   ]
  },
  {
   "cell_type": "code",
   "execution_count": 2,
   "id": "cacb3f7e",
   "metadata": {},
   "outputs": [],
   "source": [
    "dataset_dir = Path(os.environ['dataset_dir'])\n",
    "data = pd.read_csv(dataset_dir / 'train.csv')"
   ]
  },
  {
   "cell_type": "code",
   "execution_count": 3,
   "id": "b37d4c3d",
   "metadata": {},
   "outputs": [],
   "source": [
    "data = data.set_index('row_id')"
   ]
  },
  {
   "cell_type": "code",
   "execution_count": 4,
   "id": "7e01dd8c",
   "metadata": {},
   "outputs": [],
   "source": [
    "# train on earlier data, test on later data\n",
    "train = data[data.time_id < 200]\n",
    "val = data.query(\"200 <= time_id < 210\")\n",
    "test = data.query(\"210 <= time_id < 300\")\n",
    "\n",
    "x_train, y_train = train.drop('target', axis=1), train[['time_id', 'target']]\n",
    "x_val, y_val = val.drop('target', axis=1), val[['time_id', 'target']]\n",
    "x_test, y_test = test.drop('target', axis=1), test[['time_id', 'target']]"
   ]
  },
  {
   "cell_type": "code",
   "execution_count": 5,
   "id": "b801dcdc",
   "metadata": {},
   "outputs": [
    {
     "name": "stdout",
     "output_type": "stream",
     "text": [
      "Learning rate set to 0.5\n",
      "0:\tlearn: 0.9306783\ttest: 0.9365735\tbest: 0.9365735 (0)\ttotal: 711ms\tremaining: 1m 10s\n",
      "20:\tlearn: 0.9178891\ttest: 0.9406778\tbest: 0.9357778 (9)\ttotal: 11.1s\tremaining: 41.6s\n",
      "40:\tlearn: 0.9092868\ttest: 0.9372681\tbest: 0.9357778 (9)\ttotal: 21.5s\tremaining: 31s\n",
      "60:\tlearn: 0.9020813\ttest: 0.9394631\tbest: 0.9357778 (9)\ttotal: 32.5s\tremaining: 20.8s\n",
      "80:\tlearn: 0.8958848\ttest: 0.9394860\tbest: 0.9357778 (9)\ttotal: 42.9s\tremaining: 10.1s\n",
      "99:\tlearn: 0.8902457\ttest: 0.9388778\tbest: 0.9357778 (9)\ttotal: 52.9s\tremaining: 0us\n",
      "\n",
      "bestTest = 0.9357777902\n",
      "bestIteration = 9\n",
      "\n",
      "Shrink model to first 10 iterations.\n"
     ]
    }
   ],
   "source": [
    "from catboost import CatBoostRegressor, Pool\n",
    "\n",
    "train_pool = Pool(x_train.drop('time_id', axis=1), y_train.target, cat_features=['investment_id'])\n",
    "val_pool = Pool(x_val.drop('time_id', axis=1), y_val.target, cat_features=['investment_id'])\n",
    "\n",
    "model = CatBoostRegressor(\n",
    "    iterations=100,\n",
    "    random_state=0,\n",
    "    cat_features=['investment_id'], \n",
    "    verbose=20\n",
    ")\n",
    "model = model.fit(train_pool, eval_set=val_pool)"
   ]
  },
  {
   "cell_type": "code",
   "execution_count": 6,
   "id": "aca7a3a5",
   "metadata": {},
   "outputs": [],
   "source": [
    "y_pred = model.predict(x_test)\n",
    "y_pred = pd.DataFrame({'target': y_pred}, index=x_test.index)"
   ]
  },
  {
   "cell_type": "code",
   "execution_count": 7,
   "id": "bb105c4e",
   "metadata": {},
   "outputs": [
    {
     "data": {
      "text/plain": [
       "0.12388904140526928"
      ]
     },
     "execution_count": 7,
     "metadata": {},
     "output_type": "execute_result"
    }
   ],
   "source": [
    "pearson_metric(y_test, y_pred)"
   ]
  },
  {
   "cell_type": "markdown",
   "id": "bf1465ee",
   "metadata": {},
   "source": [
    "I thought the model failed to learn anything on features only: it overfits after 9th epoch.  \n",
    "But metric is greater than 0, hmm"
   ]
  }
 ],
 "metadata": {
  "kernelspec": {
   "display_name": "crystalvae",
   "language": "python",
   "name": "crystalvae"
  },
  "language_info": {
   "codemirror_mode": {
    "name": "ipython",
    "version": 3
   },
   "file_extension": ".py",
   "mimetype": "text/x-python",
   "name": "python",
   "nbconvert_exporter": "python",
   "pygments_lexer": "ipython3",
   "version": "3.6.13"
  }
 },
 "nbformat": 4,
 "nbformat_minor": 5
}
