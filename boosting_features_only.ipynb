{
 "cells": [
  {
   "cell_type": "code",
   "execution_count": 1,
   "id": "413c439e",
   "metadata": {},
   "outputs": [
    {
     "data": {
      "text/plain": [
       "True"
      ]
     },
     "execution_count": 1,
     "metadata": {},
     "output_type": "execute_result"
    }
   ],
   "source": [
    "import os\n",
    "import pandas as pd\n",
    "import numpy as np\n",
    "from scipy import stats\n",
    "from pathlib import Path\n",
    "from dotenv import load_dotenv\n",
    "\n",
    "from src.metrics import pearson_metric\n",
    "\n",
    "load_dotenv()"
   ]
  },
  {
   "cell_type": "code",
   "execution_count": 2,
   "id": "cacb3f7e",
   "metadata": {},
   "outputs": [],
   "source": [
    "dataset_dir = Path(os.environ['dataset_dir'])\n",
    "data = pd.read_csv(dataset_dir / 'train.csv')"
   ]
  },
  {
   "cell_type": "code",
   "execution_count": 3,
   "id": "b37d4c3d",
   "metadata": {},
   "outputs": [],
   "source": [
    "data = data.set_index('row_id')"
   ]
  },
  {
   "cell_type": "code",
   "execution_count": 4,
   "id": "7e01dd8c",
   "metadata": {},
   "outputs": [],
   "source": [
    "# train on earlier data, test on later data\n",
    "train = data[data.time_id < 1000]\n",
    "val = data.query(\"1000 <= time_id < 1100\")\n",
    "test = data.query(\"1100 <= time_id\")\n",
    "\n",
    "x_train, y_train = train.drop('target', axis=1), train[['time_id', 'target']]\n",
    "x_val, y_val = val.drop('target', axis=1), val[['time_id', 'target']]\n",
    "x_test, y_test = test.drop('target', axis=1), test[['time_id', 'target']]"
   ]
  },
  {
   "cell_type": "code",
   "execution_count": 5,
   "id": "c1a4f37b",
   "metadata": {},
   "outputs": [],
   "source": [
    "class PearsonMetric(object):\n",
    "    def get_final_error(self, error, weight):\n",
    "        return error\n",
    "\n",
    "    def is_max_optimal(self):\n",
    "        return True\n",
    "\n",
    "    def evaluate(self, approxes, target, weight):\n",
    "        # костыль, но я не знаю что с ним делать,\n",
    "        # катбуст такие штуки не поддерживает\n",
    "        if len(target) == len(y_val.target):\n",
    "            target = y_val\n",
    "        elif len(target) == len(y_train.target):\n",
    "            target = y_train\n",
    "        \n",
    "        y_pred = pd.DataFrame({'target': approxes[0]}, index=target.index)\n",
    "        coef = pearson_metric(target, y_pred)\n",
    "        return coef, 0\n"
   ]
  },
  {
   "cell_type": "code",
   "execution_count": 6,
   "id": "b801dcdc",
   "metadata": {},
   "outputs": [],
   "source": [
    "from catboost import CatBoostRegressor, Pool\n",
    "\n",
    "train_pool = Pool(x_train.drop('time_id', axis=1), y_train.target, cat_features=['investment_id'])\n",
    "val_pool = Pool(x_val.drop('time_id', axis=1), y_val.target, cat_features=['investment_id'])\n",
    "\n",
    "model = CatBoostRegressor(\n",
    "    iterations=400,\n",
    "    random_state=0,\n",
    "    cat_features=['investment_id'], \n",
    "    verbose=40,\n",
    "    eval_metric=PearsonMetric(),\n",
    ")"
   ]
  },
  {
   "cell_type": "code",
   "execution_count": 7,
   "id": "f0b0b119",
   "metadata": {},
   "outputs": [
    {
     "name": "stdout",
     "output_type": "stream",
     "text": [
      "Learning rate set to 0.30288\n"
     ]
    },
    {
     "name": "stderr",
     "output_type": "stream",
     "text": [
      "/miniconda/envs/crystalvae/lib/python3.6/site-packages/catboost/core.py:1464: UserWarning: Failed to optimize method \"evaluate\" in the passed object:\n",
      "Failed in nopython mode pipeline (step: nopython frontend)\n",
      "\u001b[1mUntyped global name 'y_val':\u001b[0m \u001b[1m\u001b[1mCannot determine Numba type of <class 'pandas.core.frame.DataFrame'>\u001b[0m\n",
      "\u001b[1m\n",
      "File \"<ipython-input-5-4cb548f2dab3>\", line 9:\u001b[0m\n",
      "\u001b[1m    def evaluate(self, approxes, target, weight):\n",
      "\u001b[1m        if len(target) == len(y_val.target):\n",
      "\u001b[0m        \u001b[1m^\u001b[0m\u001b[0m\n",
      "\u001b[0m\n",
      "  self._object._train(train_pool, test_pool, params, allow_clear_pool, init_model._object if init_model else None)\n"
     ]
    },
    {
     "name": "stdout",
     "output_type": "stream",
     "text": [
      "0:\tlearn: -0.0005814\ttest: 0.0758589\tbest: 0.0758589 (0)\ttotal: 5.15s\tremaining: 34m 16s\n",
      "40:\tlearn: 0.0005089\ttest: 0.1216440\tbest: 0.1216440 (40)\ttotal: 3m 8s\tremaining: 27m 34s\n",
      "80:\tlearn: 0.0004282\ttest: 0.1247225\tbest: 0.1247225 (80)\ttotal: 6m 7s\tremaining: 24m 9s\n",
      "120:\tlearn: 0.0003989\ttest: 0.1225032\tbest: 0.1272309 (106)\ttotal: 9m 3s\tremaining: 20m 52s\n",
      "160:\tlearn: 0.0002786\ttest: 0.1177123\tbest: 0.1272309 (106)\ttotal: 11m 53s\tremaining: 17m 38s\n",
      "200:\tlearn: 0.0001373\ttest: 0.1186822\tbest: 0.1272309 (106)\ttotal: 14m 46s\tremaining: 14m 37s\n",
      "240:\tlearn: 0.0000921\ttest: 0.1172115\tbest: 0.1272309 (106)\ttotal: 17m 40s\tremaining: 11m 39s\n",
      "280:\tlearn: 0.0001314\ttest: 0.1155979\tbest: 0.1272309 (106)\ttotal: 20m 30s\tremaining: 8m 41s\n",
      "320:\tlearn: 0.0003007\ttest: 0.1144597\tbest: 0.1272309 (106)\ttotal: 23m 22s\tremaining: 5m 45s\n",
      "360:\tlearn: 0.0002947\ttest: 0.1146621\tbest: 0.1272309 (106)\ttotal: 26m 15s\tremaining: 2m 50s\n",
      "399:\tlearn: 0.0001400\ttest: 0.1151824\tbest: 0.1272309 (106)\ttotal: 29m\tremaining: 0us\n",
      "\n",
      "bestTest = 0.127230886\n",
      "bestIteration = 106\n",
      "\n",
      "Shrink model to first 107 iterations.\n"
     ]
    }
   ],
   "source": [
    "model = model.fit(train_pool, eval_set=val_pool)"
   ]
  },
  {
   "cell_type": "code",
   "execution_count": 10,
   "id": "aca7a3a5",
   "metadata": {},
   "outputs": [],
   "source": [
    "test_pool = Pool(x_test, cat_features=['investment_id'])\n",
    "y_pred = model.predict(test_pool)\n",
    "y_pred = pd.DataFrame({'target': y_pred}, index=x_test.index)"
   ]
  },
  {
   "cell_type": "code",
   "execution_count": 11,
   "id": "bb105c4e",
   "metadata": {},
   "outputs": [
    {
     "data": {
      "text/plain": [
       "0.10990725295039389"
      ]
     },
     "execution_count": 11,
     "metadata": {},
     "output_type": "execute_result"
    }
   ],
   "source": [
    "pearson_metric(y_test, y_pred)"
   ]
  },
  {
   "cell_type": "code",
   "execution_count": 13,
   "id": "8ffa6ab1",
   "metadata": {},
   "outputs": [],
   "source": [
    "weights_dir = dataset_dir / 'weights'\n",
    "os.makedirs(weights_dir, exist_ok=True)\n",
    "model.save_model(weights_dir / 'cb_first_test_109')"
   ]
  }
 ],
 "metadata": {
  "kernelspec": {
   "display_name": "crystalvae",
   "language": "python",
   "name": "crystalvae"
  },
  "language_info": {
   "codemirror_mode": {
    "name": "ipython",
    "version": 3
   },
   "file_extension": ".py",
   "mimetype": "text/x-python",
   "name": "python",
   "nbconvert_exporter": "python",
   "pygments_lexer": "ipython3",
   "version": "3.6.13"
  }
 },
 "nbformat": 4,
 "nbformat_minor": 5
}
