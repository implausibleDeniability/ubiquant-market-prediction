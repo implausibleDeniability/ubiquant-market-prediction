{
 "cells": [
  {
   "cell_type": "code",
   "execution_count": 9,
   "id": "99c42e44",
   "metadata": {},
   "outputs": [],
   "source": [
    "import lightgbm as lgb"
   ]
  },
  {
   "cell_type": "code",
   "execution_count": 2,
   "id": "413c439e",
   "metadata": {},
   "outputs": [
    {
     "data": {
      "text/plain": [
       "True"
      ]
     },
     "execution_count": 2,
     "metadata": {},
     "output_type": "execute_result"
    }
   ],
   "source": [
    "import os\n",
    "import pandas as pd\n",
    "import numpy as np\n",
    "from scipy import stats\n",
    "from pathlib import Path\n",
    "from dotenv import load_dotenv\n",
    "\n",
    "from src.metrics import pearson_metric\n",
    "from src.feature_engineering import compute_kmeans_clusters\n",
    "\n",
    "load_dotenv()"
   ]
  },
  {
   "cell_type": "code",
   "execution_count": 3,
   "id": "cacb3f7e",
   "metadata": {},
   "outputs": [
    {
     "name": "stdout",
     "output_type": "stream",
     "text": [
      "CPU times: user 2min 30s, sys: 9.12 s, total: 2min 40s\n",
      "Wall time: 2min 53s\n"
     ]
    }
   ],
   "source": [
    "%%time\n",
    "dataset_dir = Path(os.environ['dataset_dir'])\n",
    "full_data = pd.read_csv(dataset_dir / 'train.csv')\n",
    "sample_data = pd.read_csv(dataset_dir / 'train_sample.csv', index_col=0)"
   ]
  },
  {
   "cell_type": "code",
   "execution_count": 22,
   "id": "4108655b",
   "metadata": {
    "scrolled": true
   },
   "outputs": [],
   "source": [
    "data = full_data"
   ]
  },
  {
   "cell_type": "code",
   "execution_count": 23,
   "id": "b37d4c3d",
   "metadata": {},
   "outputs": [],
   "source": [
    "data = data.set_index('row_id')"
   ]
  },
  {
   "cell_type": "code",
   "execution_count": 24,
   "id": "7e01dd8c",
   "metadata": {},
   "outputs": [],
   "source": [
    "# train on earlier data, test on later data\n",
    "train = data[data.time_id < 1000]\n",
    "val = data.query(\"1000 <= time_id < 1100\")\n",
    "test = data.query(\"1000 <= time_id\")\n",
    "\n",
    "x_train, y_train = train.drop('target', axis=1), train[['time_id', 'target']]\n",
    "x_val, y_val = val.drop('target', axis=1), val[['time_id', 'target']]\n",
    "x_test, y_test = test.drop('target', axis=1), test[['time_id', 'target']]"
   ]
  },
  {
   "cell_type": "code",
   "execution_count": 43,
   "id": "87d7127d",
   "metadata": {},
   "outputs": [],
   "source": [
    "train_data = lgb.Dataset(x_train.drop('time_id', axis=1), label=y_train.target, categorical_feature=['investment_id'])\n",
    "test_data = lgb.Dataset(x_test.drop('time_id', axis=1), label=y_train.target, categorical_feature=['investment_id'])"
   ]
  },
  {
   "cell_type": "code",
   "execution_count": 44,
   "id": "44935e41",
   "metadata": {
    "scrolled": false
   },
   "outputs": [
    {
     "name": "stderr",
     "output_type": "stream",
     "text": [
      "/miniconda/lib/python3.8/site-packages/lightgbm/basic.py:1205: UserWarning: Using categorical_feature in Dataset.\n",
      "  warnings.warn('Using categorical_feature in Dataset.')\n"
     ]
    },
    {
     "name": "stdout",
     "output_type": "stream",
     "text": [
      "[LightGBM] [Info] Total Bins 79991\n",
      "[LightGBM] [Info] Number of data: 2433272, number of used features: 301\n",
      "[LightGBM] [Info] Start training from score -0.024092\n"
     ]
    }
   ],
   "source": [
    "param = {'objective': 'regression'}\n",
    "bst = lgb.train(param, train_data, 100)"
   ]
  },
  {
   "cell_type": "code",
   "execution_count": 45,
   "id": "4ec7f6e2",
   "metadata": {},
   "outputs": [],
   "source": [
    "y_pred = bst.predict(x_test.drop('time_id', axis=1))"
   ]
  },
  {
   "cell_type": "code",
   "execution_count": 46,
   "id": "32cb257a",
   "metadata": {},
   "outputs": [
    {
     "data": {
      "text/plain": [
       "0.009869813758294987"
      ]
     },
     "execution_count": 46,
     "metadata": {},
     "output_type": "execute_result"
    }
   ],
   "source": [
    "from matplotlib import pyplot as plt\n",
    "from sklearn.metrics import r2_score\n",
    "r2_score(y_test.target, y_pred)"
   ]
  },
  {
   "cell_type": "code",
   "execution_count": 50,
   "id": "2e742ec8",
   "metadata": {},
   "outputs": [
    {
     "data": {
      "text/plain": [
       "0.9001908210276011"
      ]
     },
     "execution_count": 50,
     "metadata": {},
     "output_type": "execute_result"
    }
   ],
   "source": [
    "np.sqrt(np.mean((y_test.target - y_pred) ** 2))"
   ]
  }
 ],
 "metadata": {
  "kernelspec": {
   "display_name": "base",
   "language": "python",
   "name": "base"
  },
  "language_info": {
   "codemirror_mode": {
    "name": "ipython",
    "version": 3
   },
   "file_extension": ".py",
   "mimetype": "text/x-python",
   "name": "python",
   "nbconvert_exporter": "python",
   "pygments_lexer": "ipython3",
   "version": "3.8.12"
  }
 },
 "nbformat": 4,
 "nbformat_minor": 5
}
