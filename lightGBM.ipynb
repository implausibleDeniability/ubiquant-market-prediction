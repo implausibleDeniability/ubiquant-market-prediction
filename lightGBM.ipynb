{
 "cells": [
  {
   "cell_type": "markdown",
   "id": "d6e00f56",
   "metadata": {},
   "source": [
    "Link to LGBM parameters tuning: https://lightgbm.readthedocs.io/en/latest/Parameters-Tuning.html#for-better-accuracy"
   ]
  },
  {
   "cell_type": "code",
   "execution_count": 1,
   "id": "413c439e",
   "metadata": {},
   "outputs": [
    {
     "data": {
      "text/plain": [
       "True"
      ]
     },
     "execution_count": 1,
     "metadata": {},
     "output_type": "execute_result"
    }
   ],
   "source": [
    "import os\n",
    "import pandas as pd\n",
    "import numpy as np\n",
    "from scipy import stats\n",
    "from pathlib import Path\n",
    "from dotenv import load_dotenv\n",
    "\n",
    "from src.boosting_models import evaluate_lightgbm\n",
    "\n",
    "load_dotenv()"
   ]
  },
  {
   "cell_type": "code",
   "execution_count": 2,
   "id": "cacb3f7e",
   "metadata": {},
   "outputs": [
    {
     "name": "stdout",
     "output_type": "stream",
     "text": [
      "CPU times: user 4.2 s, sys: 11.6 s, total: 15.8 s\n",
      "Wall time: 6.51 s\n"
     ]
    }
   ],
   "source": [
    "%%time\n",
    "dataset_dir = Path(os.environ['dataset_dir'])\n",
    "full_data = pd.read_feather(dataset_dir / 'train32.feather')\n",
    "sample_data = pd.read_csv(dataset_dir / 'train_sample.csv', index_col=0)"
   ]
  },
  {
   "cell_type": "code",
   "execution_count": 3,
   "id": "4108655b",
   "metadata": {
    "scrolled": true
   },
   "outputs": [],
   "source": [
    "data = sample_data"
   ]
  },
  {
   "cell_type": "code",
   "execution_count": 4,
   "id": "b37d4c3d",
   "metadata": {},
   "outputs": [],
   "source": [
    "data = data.set_index('row_id')"
   ]
  },
  {
   "cell_type": "code",
   "execution_count": 5,
   "id": "7e01dd8c",
   "metadata": {},
   "outputs": [],
   "source": [
    "# train on earlier data, test on later data\n",
    "train = data[data.time_id < 1000]\n",
    "test = data.query(\"1000 <= time_id\")\n",
    "\n",
    "x_train, y_train = train.drop('target', axis=1), train[['time_id', 'target']]\n",
    "x_test, y_test = test.drop('target', axis=1), test[['time_id', 'target']]"
   ]
  },
  {
   "cell_type": "code",
   "execution_count": 6,
   "id": "44935e41",
   "metadata": {
    "scrolled": true
   },
   "outputs": [],
   "source": [
    "params = {\n",
    "    'objective': 'regression', \n",
    "    'boosting': 'dart',\n",
    "    'num_iterations': 100,\n",
    "    'num_leaves': 31, # less num leaves reduces variance\n",
    "    'max_bin': 63, # less max bin reduces variance\n",
    "    'learning_rate': 0.1, # lower lr with higher iterations reduces variance\n",
    "    'min_data_in_leaf': 2**8,\n",
    "}"
   ]
  },
  {
   "cell_type": "code",
   "execution_count": 7,
   "id": "8a75933b",
   "metadata": {},
   "outputs": [
    {
     "name": "stderr",
     "output_type": "stream",
     "text": [
      "/miniconda/lib/python3.8/site-packages/lightgbm/engine.py:118: UserWarning: Found `num_iterations` in params. Will use it instead of argument\n",
      "  warnings.warn(\"Found `{}` in params. Will use it instead of argument\".format(alias))\n",
      "/miniconda/lib/python3.8/site-packages/lightgbm/basic.py:1205: UserWarning: Using categorical_feature in Dataset.\n",
      "  warnings.warn('Using categorical_feature in Dataset.')\n"
     ]
    },
    {
     "name": "stdout",
     "output_type": "stream",
     "text": [
      "[LightGBM] [Info] Total Bins 22152\n",
      "[LightGBM] [Info] Number of data: 24447, number of used features: 301\n",
      "[LightGBM] [Info] Start training from score -0.021726\n",
      "RMSE: 0.9247614889943098, Pearson: 0.050723329596191025\n"
     ]
    }
   ],
   "source": [
    "rmse, pearson = evaluate_lightgbm(\n",
    "    x_train.drop(\"time_id\", axis=1), \n",
    "    x_test.drop(\"time_id\", axis=1), \n",
    "    y_train.target, \n",
    "    y_test,\n",
    "    params,\n",
    ")\n",
    "print(f\"RMSE: {rmse}, Pearson: {pearson}\")"
   ]
  }
 ],
 "metadata": {
  "kernelspec": {
   "display_name": "base",
   "language": "python",
   "name": "base"
  },
  "language_info": {
   "codemirror_mode": {
    "name": "ipython",
    "version": 3
   },
   "file_extension": ".py",
   "mimetype": "text/x-python",
   "name": "python",
   "nbconvert_exporter": "python",
   "pygments_lexer": "ipython3",
   "version": "3.8.12"
  }
 },
 "nbformat": 4,
 "nbformat_minor": 5
}
