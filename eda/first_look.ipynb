{
 "cells": [
  {
   "cell_type": "markdown",
   "id": "a84073d5",
   "metadata": {},
   "source": [
    "### Prerequisites"
   ]
  },
  {
   "cell_type": "code",
   "execution_count": 1,
   "id": "dd11fffe",
   "metadata": {},
   "outputs": [
    {
     "data": {
      "text/plain": [
       "True"
      ]
     },
     "execution_count": 1,
     "metadata": {},
     "output_type": "execute_result"
    }
   ],
   "source": [
    "import os\n",
    "import pandas as pd\n",
    "import numpy as np\n",
    "from tqdm import tqdm\n",
    "from pathlib import Path\n",
    "from dotenv import load_dotenv\n",
    "from sklearn.ensemble import RandomForestRegressor\n",
    "import matplotlib.pyplot as plt\n",
    "\n",
    "load_dotenv()"
   ]
  },
  {
   "cell_type": "markdown",
   "id": "c1d28f06",
   "metadata": {},
   "source": [
    "### Data Loading"
   ]
  },
  {
   "cell_type": "code",
   "execution_count": 2,
   "id": "d08df7b1",
   "metadata": {},
   "outputs": [],
   "source": [
    "data_dir = Path(os.environ['dataset_dir'])\n",
    "df = pd.read_csv(data_dir / 'train.csv')\n",
    "df = df.set_index('row_id')"
   ]
  },
  {
   "cell_type": "markdown",
   "id": "e88ec0a4",
   "metadata": {},
   "source": [
    "### How does the data look like?"
   ]
  },
  {
   "cell_type": "code",
   "execution_count": 3,
   "id": "69caed15",
   "metadata": {
    "scrolled": false
   },
   "outputs": [
    {
     "data": {
      "text/html": [
       "<div>\n",
       "<style scoped>\n",
       "    .dataframe tbody tr th:only-of-type {\n",
       "        vertical-align: middle;\n",
       "    }\n",
       "\n",
       "    .dataframe tbody tr th {\n",
       "        vertical-align: top;\n",
       "    }\n",
       "\n",
       "    .dataframe thead th {\n",
       "        text-align: right;\n",
       "    }\n",
       "</style>\n",
       "<table border=\"1\" class=\"dataframe\">\n",
       "  <thead>\n",
       "    <tr style=\"text-align: right;\">\n",
       "      <th></th>\n",
       "      <th>time_id</th>\n",
       "      <th>investment_id</th>\n",
       "      <th>target</th>\n",
       "      <th>f_0</th>\n",
       "      <th>f_1</th>\n",
       "      <th>f_2</th>\n",
       "      <th>f_3</th>\n",
       "      <th>f_4</th>\n",
       "      <th>f_5</th>\n",
       "      <th>f_6</th>\n",
       "      <th>...</th>\n",
       "      <th>f_290</th>\n",
       "      <th>f_291</th>\n",
       "      <th>f_292</th>\n",
       "      <th>f_293</th>\n",
       "      <th>f_294</th>\n",
       "      <th>f_295</th>\n",
       "      <th>f_296</th>\n",
       "      <th>f_297</th>\n",
       "      <th>f_298</th>\n",
       "      <th>f_299</th>\n",
       "    </tr>\n",
       "    <tr>\n",
       "      <th>row_id</th>\n",
       "      <th></th>\n",
       "      <th></th>\n",
       "      <th></th>\n",
       "      <th></th>\n",
       "      <th></th>\n",
       "      <th></th>\n",
       "      <th></th>\n",
       "      <th></th>\n",
       "      <th></th>\n",
       "      <th></th>\n",
       "      <th></th>\n",
       "      <th></th>\n",
       "      <th></th>\n",
       "      <th></th>\n",
       "      <th></th>\n",
       "      <th></th>\n",
       "      <th></th>\n",
       "      <th></th>\n",
       "      <th></th>\n",
       "      <th></th>\n",
       "      <th></th>\n",
       "    </tr>\n",
       "  </thead>\n",
       "  <tbody>\n",
       "    <tr>\n",
       "      <th>563_3539</th>\n",
       "      <td>563</td>\n",
       "      <td>3539</td>\n",
       "      <td>-0.032990</td>\n",
       "      <td>0.558447</td>\n",
       "      <td>-0.426785</td>\n",
       "      <td>-1.143657</td>\n",
       "      <td>-0.672958</td>\n",
       "      <td>0.462113</td>\n",
       "      <td>0.652544</td>\n",
       "      <td>0.320128</td>\n",
       "      <td>...</td>\n",
       "      <td>0.638024</td>\n",
       "      <td>-0.342378</td>\n",
       "      <td>0.989271</td>\n",
       "      <td>0.365483</td>\n",
       "      <td>-0.347965</td>\n",
       "      <td>0.912272</td>\n",
       "      <td>0.510321</td>\n",
       "      <td>-0.038355</td>\n",
       "      <td>-1.556602</td>\n",
       "      <td>0.829848</td>\n",
       "    </tr>\n",
       "    <tr>\n",
       "      <th>444_1308</th>\n",
       "      <td>444</td>\n",
       "      <td>1308</td>\n",
       "      <td>-0.318023</td>\n",
       "      <td>0.020835</td>\n",
       "      <td>-0.198301</td>\n",
       "      <td>0.869324</td>\n",
       "      <td>-1.004803</td>\n",
       "      <td>-0.592646</td>\n",
       "      <td>0.246376</td>\n",
       "      <td>-1.106594</td>\n",
       "      <td>...</td>\n",
       "      <td>-0.525129</td>\n",
       "      <td>-0.511166</td>\n",
       "      <td>-1.203955</td>\n",
       "      <td>0.138253</td>\n",
       "      <td>-0.593441</td>\n",
       "      <td>-0.843700</td>\n",
       "      <td>1.137386</td>\n",
       "      <td>-0.656492</td>\n",
       "      <td>0.807927</td>\n",
       "      <td>-0.652250</td>\n",
       "    </tr>\n",
       "    <tr>\n",
       "      <th>1066_2003</th>\n",
       "      <td>1066</td>\n",
       "      <td>2003</td>\n",
       "      <td>0.982815</td>\n",
       "      <td>0.570184</td>\n",
       "      <td>-0.273304</td>\n",
       "      <td>-1.527920</td>\n",
       "      <td>1.632562</td>\n",
       "      <td>-0.070300</td>\n",
       "      <td>-0.839611</td>\n",
       "      <td>-0.620109</td>\n",
       "      <td>...</td>\n",
       "      <td>0.533301</td>\n",
       "      <td>-0.856745</td>\n",
       "      <td>1.530070</td>\n",
       "      <td>-0.008684</td>\n",
       "      <td>-0.727946</td>\n",
       "      <td>0.263655</td>\n",
       "      <td>1.527700</td>\n",
       "      <td>0.470515</td>\n",
       "      <td>1.719106</td>\n",
       "      <td>0.367898</td>\n",
       "    </tr>\n",
       "    <tr>\n",
       "      <th>553_1548</th>\n",
       "      <td>553</td>\n",
       "      <td>1548</td>\n",
       "      <td>-0.315446</td>\n",
       "      <td>-1.352513</td>\n",
       "      <td>1.308213</td>\n",
       "      <td>0.102346</td>\n",
       "      <td>0.391228</td>\n",
       "      <td>-0.448430</td>\n",
       "      <td>0.306803</td>\n",
       "      <td>1.564518</td>\n",
       "      <td>...</td>\n",
       "      <td>0.156760</td>\n",
       "      <td>-0.669791</td>\n",
       "      <td>-0.101064</td>\n",
       "      <td>0.373486</td>\n",
       "      <td>1.048250</td>\n",
       "      <td>-0.431766</td>\n",
       "      <td>-1.733222</td>\n",
       "      <td>-0.624002</td>\n",
       "      <td>-0.866822</td>\n",
       "      <td>-0.270901</td>\n",
       "    </tr>\n",
       "    <tr>\n",
       "      <th>102_1472</th>\n",
       "      <td>102</td>\n",
       "      <td>1472</td>\n",
       "      <td>0.137650</td>\n",
       "      <td>1.116197</td>\n",
       "      <td>-1.752129</td>\n",
       "      <td>0.039061</td>\n",
       "      <td>-0.343226</td>\n",
       "      <td>-0.075883</td>\n",
       "      <td>0.457976</td>\n",
       "      <td>-0.985400</td>\n",
       "      <td>...</td>\n",
       "      <td>0.554226</td>\n",
       "      <td>0.066901</td>\n",
       "      <td>-0.775606</td>\n",
       "      <td>0.679485</td>\n",
       "      <td>1.487315</td>\n",
       "      <td>-0.253125</td>\n",
       "      <td>0.878255</td>\n",
       "      <td>-1.119225</td>\n",
       "      <td>-0.294329</td>\n",
       "      <td>-0.261102</td>\n",
       "    </tr>\n",
       "    <tr>\n",
       "      <th>834_1321</th>\n",
       "      <td>834</td>\n",
       "      <td>1321</td>\n",
       "      <td>-0.463312</td>\n",
       "      <td>0.805076</td>\n",
       "      <td>0.562241</td>\n",
       "      <td>-1.995461</td>\n",
       "      <td>-0.181786</td>\n",
       "      <td>0.290758</td>\n",
       "      <td>2.267850</td>\n",
       "      <td>1.243082</td>\n",
       "      <td>...</td>\n",
       "      <td>-1.314542</td>\n",
       "      <td>-1.581399</td>\n",
       "      <td>0.293926</td>\n",
       "      <td>-0.045926</td>\n",
       "      <td>-1.808976</td>\n",
       "      <td>1.699704</td>\n",
       "      <td>0.962956</td>\n",
       "      <td>-0.786148</td>\n",
       "      <td>-0.611471</td>\n",
       "      <td>1.886422</td>\n",
       "    </tr>\n",
       "    <tr>\n",
       "      <th>385_418</th>\n",
       "      <td>385</td>\n",
       "      <td>418</td>\n",
       "      <td>1.532407</td>\n",
       "      <td>0.268260</td>\n",
       "      <td>-1.159773</td>\n",
       "      <td>-0.317794</td>\n",
       "      <td>-0.275719</td>\n",
       "      <td>0.220219</td>\n",
       "      <td>1.934818</td>\n",
       "      <td>-1.188629</td>\n",
       "      <td>...</td>\n",
       "      <td>0.916278</td>\n",
       "      <td>2.151094</td>\n",
       "      <td>1.047720</td>\n",
       "      <td>0.333002</td>\n",
       "      <td>-0.529091</td>\n",
       "      <td>-0.206052</td>\n",
       "      <td>-2.297890</td>\n",
       "      <td>-0.364192</td>\n",
       "      <td>1.442268</td>\n",
       "      <td>1.252776</td>\n",
       "    </tr>\n",
       "  </tbody>\n",
       "</table>\n",
       "<p>7 rows × 303 columns</p>\n",
       "</div>"
      ],
      "text/plain": [
       "           time_id  investment_id    target       f_0       f_1       f_2  \\\n",
       "row_id                                                                      \n",
       "563_3539       563           3539 -0.032990  0.558447 -0.426785 -1.143657   \n",
       "444_1308       444           1308 -0.318023  0.020835 -0.198301  0.869324   \n",
       "1066_2003     1066           2003  0.982815  0.570184 -0.273304 -1.527920   \n",
       "553_1548       553           1548 -0.315446 -1.352513  1.308213  0.102346   \n",
       "102_1472       102           1472  0.137650  1.116197 -1.752129  0.039061   \n",
       "834_1321       834           1321 -0.463312  0.805076  0.562241 -1.995461   \n",
       "385_418        385            418  1.532407  0.268260 -1.159773 -0.317794   \n",
       "\n",
       "                f_3       f_4       f_5       f_6  ...     f_290     f_291  \\\n",
       "row_id                                             ...                       \n",
       "563_3539  -0.672958  0.462113  0.652544  0.320128  ...  0.638024 -0.342378   \n",
       "444_1308  -1.004803 -0.592646  0.246376 -1.106594  ... -0.525129 -0.511166   \n",
       "1066_2003  1.632562 -0.070300 -0.839611 -0.620109  ...  0.533301 -0.856745   \n",
       "553_1548   0.391228 -0.448430  0.306803  1.564518  ...  0.156760 -0.669791   \n",
       "102_1472  -0.343226 -0.075883  0.457976 -0.985400  ...  0.554226  0.066901   \n",
       "834_1321  -0.181786  0.290758  2.267850  1.243082  ... -1.314542 -1.581399   \n",
       "385_418   -0.275719  0.220219  1.934818 -1.188629  ...  0.916278  2.151094   \n",
       "\n",
       "              f_292     f_293     f_294     f_295     f_296     f_297  \\\n",
       "row_id                                                                  \n",
       "563_3539   0.989271  0.365483 -0.347965  0.912272  0.510321 -0.038355   \n",
       "444_1308  -1.203955  0.138253 -0.593441 -0.843700  1.137386 -0.656492   \n",
       "1066_2003  1.530070 -0.008684 -0.727946  0.263655  1.527700  0.470515   \n",
       "553_1548  -0.101064  0.373486  1.048250 -0.431766 -1.733222 -0.624002   \n",
       "102_1472  -0.775606  0.679485  1.487315 -0.253125  0.878255 -1.119225   \n",
       "834_1321   0.293926 -0.045926 -1.808976  1.699704  0.962956 -0.786148   \n",
       "385_418    1.047720  0.333002 -0.529091 -0.206052 -2.297890 -0.364192   \n",
       "\n",
       "              f_298     f_299  \n",
       "row_id                         \n",
       "563_3539  -1.556602  0.829848  \n",
       "444_1308   0.807927 -0.652250  \n",
       "1066_2003  1.719106  0.367898  \n",
       "553_1548  -0.866822 -0.270901  \n",
       "102_1472  -0.294329 -0.261102  \n",
       "834_1321  -0.611471  1.886422  \n",
       "385_418    1.442268  1.252776  \n",
       "\n",
       "[7 rows x 303 columns]"
      ]
     },
     "execution_count": 3,
     "metadata": {},
     "output_type": "execute_result"
    }
   ],
   "source": [
    "df.sample(7)"
   ]
  },
  {
   "cell_type": "markdown",
   "id": "6cf03609",
   "metadata": {},
   "source": [
    "### Main statistics"
   ]
  },
  {
   "cell_type": "code",
   "execution_count": 4,
   "id": "4b0f2a6a",
   "metadata": {
    "scrolled": true
   },
   "outputs": [
    {
     "data": {
      "text/html": [
       "<div>\n",
       "<style scoped>\n",
       "    .dataframe tbody tr th:only-of-type {\n",
       "        vertical-align: middle;\n",
       "    }\n",
       "\n",
       "    .dataframe tbody tr th {\n",
       "        vertical-align: top;\n",
       "    }\n",
       "\n",
       "    .dataframe thead th {\n",
       "        text-align: right;\n",
       "    }\n",
       "</style>\n",
       "<table border=\"1\" class=\"dataframe\">\n",
       "  <thead>\n",
       "    <tr style=\"text-align: right;\">\n",
       "      <th></th>\n",
       "      <th>time_id</th>\n",
       "      <th>investment_id</th>\n",
       "      <th>target</th>\n",
       "      <th>f_0</th>\n",
       "      <th>f_1</th>\n",
       "      <th>f_2</th>\n",
       "      <th>f_3</th>\n",
       "      <th>f_4</th>\n",
       "      <th>f_5</th>\n",
       "      <th>f_6</th>\n",
       "      <th>...</th>\n",
       "      <th>f_290</th>\n",
       "      <th>f_291</th>\n",
       "      <th>f_292</th>\n",
       "      <th>f_293</th>\n",
       "      <th>f_294</th>\n",
       "      <th>f_295</th>\n",
       "      <th>f_296</th>\n",
       "      <th>f_297</th>\n",
       "      <th>f_298</th>\n",
       "      <th>f_299</th>\n",
       "    </tr>\n",
       "  </thead>\n",
       "  <tbody>\n",
       "    <tr>\n",
       "      <th>count</th>\n",
       "      <td>3141410.000</td>\n",
       "      <td>3141410.000</td>\n",
       "      <td>3141410.000</td>\n",
       "      <td>3141410.000</td>\n",
       "      <td>3141410.000</td>\n",
       "      <td>3141410.000</td>\n",
       "      <td>3141410.000</td>\n",
       "      <td>3141410.000</td>\n",
       "      <td>3141410.000</td>\n",
       "      <td>3141410.000</td>\n",
       "      <td>...</td>\n",
       "      <td>3141410.000</td>\n",
       "      <td>3141410.000</td>\n",
       "      <td>3141410.000</td>\n",
       "      <td>3141410.000</td>\n",
       "      <td>3141410.000</td>\n",
       "      <td>3141410.000</td>\n",
       "      <td>3141410.000</td>\n",
       "      <td>3141410.000</td>\n",
       "      <td>3141410.000</td>\n",
       "      <td>3141410.000</td>\n",
       "    </tr>\n",
       "    <tr>\n",
       "      <th>mean</th>\n",
       "      <td>665.486</td>\n",
       "      <td>1885.265</td>\n",
       "      <td>-0.021</td>\n",
       "      <td>0.002</td>\n",
       "      <td>-0.013</td>\n",
       "      <td>0.009</td>\n",
       "      <td>-0.020</td>\n",
       "      <td>-0.005</td>\n",
       "      <td>-0.003</td>\n",
       "      <td>0.002</td>\n",
       "      <td>...</td>\n",
       "      <td>0.013</td>\n",
       "      <td>0.001</td>\n",
       "      <td>-0.007</td>\n",
       "      <td>0.003</td>\n",
       "      <td>-0.005</td>\n",
       "      <td>-0.028</td>\n",
       "      <td>-0.002</td>\n",
       "      <td>-0.007</td>\n",
       "      <td>-0.004</td>\n",
       "      <td>-0.004</td>\n",
       "    </tr>\n",
       "    <tr>\n",
       "      <th>std</th>\n",
       "      <td>356.043</td>\n",
       "      <td>1083.616</td>\n",
       "      <td>0.920</td>\n",
       "      <td>1.081</td>\n",
       "      <td>1.032</td>\n",
       "      <td>1.032</td>\n",
       "      <td>0.963</td>\n",
       "      <td>0.994</td>\n",
       "      <td>1.106</td>\n",
       "      <td>1.069</td>\n",
       "      <td>...</td>\n",
       "      <td>1.086</td>\n",
       "      <td>1.115</td>\n",
       "      <td>1.072</td>\n",
       "      <td>1.103</td>\n",
       "      <td>1.145</td>\n",
       "      <td>0.961</td>\n",
       "      <td>1.142</td>\n",
       "      <td>1.109</td>\n",
       "      <td>1.052</td>\n",
       "      <td>1.010</td>\n",
       "    </tr>\n",
       "    <tr>\n",
       "      <th>min</th>\n",
       "      <td>0.000</td>\n",
       "      <td>0.000</td>\n",
       "      <td>-9.420</td>\n",
       "      <td>-17.658</td>\n",
       "      <td>-6.579</td>\n",
       "      <td>-8.644</td>\n",
       "      <td>-18.004</td>\n",
       "      <td>-4.000</td>\n",
       "      <td>-8.834</td>\n",
       "      <td>-6.384</td>\n",
       "      <td>...</td>\n",
       "      <td>-9.271</td>\n",
       "      <td>-6.360</td>\n",
       "      <td>-8.184</td>\n",
       "      <td>-23.995</td>\n",
       "      <td>-14.973</td>\n",
       "      <td>-9.349</td>\n",
       "      <td>-7.367</td>\n",
       "      <td>-7.579</td>\n",
       "      <td>-6.707</td>\n",
       "      <td>-10.283</td>\n",
       "    </tr>\n",
       "    <tr>\n",
       "      <th>25%</th>\n",
       "      <td>353.000</td>\n",
       "      <td>952.000</td>\n",
       "      <td>-0.500</td>\n",
       "      <td>-0.407</td>\n",
       "      <td>-0.681</td>\n",
       "      <td>-0.653</td>\n",
       "      <td>-0.450</td>\n",
       "      <td>-0.353</td>\n",
       "      <td>-0.707</td>\n",
       "      <td>-0.791</td>\n",
       "      <td>...</td>\n",
       "      <td>-0.604</td>\n",
       "      <td>-0.836</td>\n",
       "      <td>-0.698</td>\n",
       "      <td>-0.138</td>\n",
       "      <td>-0.940</td>\n",
       "      <td>-0.515</td>\n",
       "      <td>-0.957</td>\n",
       "      <td>-0.724</td>\n",
       "      <td>-0.817</td>\n",
       "      <td>-0.508</td>\n",
       "    </tr>\n",
       "    <tr>\n",
       "      <th>50%</th>\n",
       "      <td>704.000</td>\n",
       "      <td>1882.000</td>\n",
       "      <td>-0.097</td>\n",
       "      <td>0.243</td>\n",
       "      <td>-0.049</td>\n",
       "      <td>0.044</td>\n",
       "      <td>-0.264</td>\n",
       "      <td>-0.191</td>\n",
       "      <td>-0.021</td>\n",
       "      <td>0.014</td>\n",
       "      <td>...</td>\n",
       "      <td>0.061</td>\n",
       "      <td>-0.202</td>\n",
       "      <td>-0.191</td>\n",
       "      <td>0.216</td>\n",
       "      <td>0.209</td>\n",
       "      <td>-0.291</td>\n",
       "      <td>0.007</td>\n",
       "      <td>-0.165</td>\n",
       "      <td>0.023</td>\n",
       "      <td>-0.282</td>\n",
       "    </tr>\n",
       "    <tr>\n",
       "      <th>75%</th>\n",
       "      <td>975.000</td>\n",
       "      <td>2830.000</td>\n",
       "      <td>0.357</td>\n",
       "      <td>0.665</td>\n",
       "      <td>0.609</td>\n",
       "      <td>0.659</td>\n",
       "      <td>0.078</td>\n",
       "      <td>0.028</td>\n",
       "      <td>0.684</td>\n",
       "      <td>0.801</td>\n",
       "      <td>...</td>\n",
       "      <td>0.688</td>\n",
       "      <td>0.904</td>\n",
       "      <td>0.484</td>\n",
       "      <td>0.509</td>\n",
       "      <td>0.862</td>\n",
       "      <td>0.128</td>\n",
       "      <td>0.950</td>\n",
       "      <td>0.610</td>\n",
       "      <td>0.798</td>\n",
       "      <td>0.141</td>\n",
       "    </tr>\n",
       "    <tr>\n",
       "      <th>max</th>\n",
       "      <td>1219.000</td>\n",
       "      <td>3773.000</td>\n",
       "      <td>12.039</td>\n",
       "      <td>7.845</td>\n",
       "      <td>8.707</td>\n",
       "      <td>8.009</td>\n",
       "      <td>47.063</td>\n",
       "      <td>76.629</td>\n",
       "      <td>7.646</td>\n",
       "      <td>6.778</td>\n",
       "      <td>...</td>\n",
       "      <td>9.298</td>\n",
       "      <td>9.725</td>\n",
       "      <td>22.312</td>\n",
       "      <td>6.588</td>\n",
       "      <td>6.978</td>\n",
       "      <td>61.404</td>\n",
       "      <td>7.680</td>\n",
       "      <td>12.418</td>\n",
       "      <td>7.004</td>\n",
       "      <td>43.370</td>\n",
       "    </tr>\n",
       "  </tbody>\n",
       "</table>\n",
       "<p>8 rows × 303 columns</p>\n",
       "</div>"
      ],
      "text/plain": [
       "          time_id  investment_id      target         f_0         f_1  \\\n",
       "count 3141410.000    3141410.000 3141410.000 3141410.000 3141410.000   \n",
       "mean      665.486       1885.265      -0.021       0.002      -0.013   \n",
       "std       356.043       1083.616       0.920       1.081       1.032   \n",
       "min         0.000          0.000      -9.420     -17.658      -6.579   \n",
       "25%       353.000        952.000      -0.500      -0.407      -0.681   \n",
       "50%       704.000       1882.000      -0.097       0.243      -0.049   \n",
       "75%       975.000       2830.000       0.357       0.665       0.609   \n",
       "max      1219.000       3773.000      12.039       7.845       8.707   \n",
       "\n",
       "              f_2         f_3         f_4         f_5         f_6  ...  \\\n",
       "count 3141410.000 3141410.000 3141410.000 3141410.000 3141410.000  ...   \n",
       "mean        0.009      -0.020      -0.005      -0.003       0.002  ...   \n",
       "std         1.032       0.963       0.994       1.106       1.069  ...   \n",
       "min        -8.644     -18.004      -4.000      -8.834      -6.384  ...   \n",
       "25%        -0.653      -0.450      -0.353      -0.707      -0.791  ...   \n",
       "50%         0.044      -0.264      -0.191      -0.021       0.014  ...   \n",
       "75%         0.659       0.078       0.028       0.684       0.801  ...   \n",
       "max         8.009      47.063      76.629       7.646       6.778  ...   \n",
       "\n",
       "            f_290       f_291       f_292       f_293       f_294       f_295  \\\n",
       "count 3141410.000 3141410.000 3141410.000 3141410.000 3141410.000 3141410.000   \n",
       "mean        0.013       0.001      -0.007       0.003      -0.005      -0.028   \n",
       "std         1.086       1.115       1.072       1.103       1.145       0.961   \n",
       "min        -9.271      -6.360      -8.184     -23.995     -14.973      -9.349   \n",
       "25%        -0.604      -0.836      -0.698      -0.138      -0.940      -0.515   \n",
       "50%         0.061      -0.202      -0.191       0.216       0.209      -0.291   \n",
       "75%         0.688       0.904       0.484       0.509       0.862       0.128   \n",
       "max         9.298       9.725      22.312       6.588       6.978      61.404   \n",
       "\n",
       "            f_296       f_297       f_298       f_299  \n",
       "count 3141410.000 3141410.000 3141410.000 3141410.000  \n",
       "mean       -0.002      -0.007      -0.004      -0.004  \n",
       "std         1.142       1.109       1.052       1.010  \n",
       "min        -7.367      -7.579      -6.707     -10.283  \n",
       "25%        -0.957      -0.724      -0.817      -0.508  \n",
       "50%         0.007      -0.165       0.023      -0.282  \n",
       "75%         0.950       0.610       0.798       0.141  \n",
       "max         7.680      12.418       7.004      43.370  \n",
       "\n",
       "[8 rows x 303 columns]"
      ]
     },
     "execution_count": 4,
     "metadata": {},
     "output_type": "execute_result"
    }
   ],
   "source": [
    "pd.set_option('display.float_format', lambda x: '%.3f' % x)\n",
    "df.describe()"
   ]
  },
  {
   "cell_type": "markdown",
   "id": "f32ab9b1",
   "metadata": {},
   "source": [
    "All features ~ mean 0 and std 1. Some have outliers (f_3, f_4)"
   ]
  },
  {
   "cell_type": "markdown",
   "id": "61ddb6b5",
   "metadata": {},
   "source": [
    "### Is target normal? No"
   ]
  },
  {
   "cell_type": "code",
   "execution_count": 5,
   "id": "1f8488cb",
   "metadata": {
    "scrolled": false
   },
   "outputs": [
    {
     "name": "stdout",
     "output_type": "stream",
     "text": [
      "Normal test: NormaltestResult(statistic=743543.654385804, pvalue=0.0)\n"
     ]
    },
    {
     "data": {
      "text/plain": [
       "<AxesSubplot:>"
      ]
     },
     "execution_count": 5,
     "metadata": {},
     "output_type": "execute_result"
    },
    {
     "data": {
      "image/png": "[encoded data removed]",
      "text/plain": [
       "<Figure size 432x288 with 1 Axes>"
      ]
     },
     "metadata": {
      "needs_background": "light"
     },
     "output_type": "display_data"
    }
   ],
   "source": [
    "from scipy.stats import normaltest\n",
    "print(\"Normal test:\", normaltest(df.target))\n",
    "df.target.hist(bins=200)"
   ]
  },
  {
   "cell_type": "markdown",
   "id": "3c953642",
   "metadata": {},
   "source": [
    "### Let's look at some feature distributions"
   ]
  },
  {
   "cell_type": "code",
   "execution_count": 6,
   "id": "fb445d2f",
   "metadata": {
    "scrolled": false
   },
   "outputs": [
    {
     "data": {
      "image/png": "[encoded data removed]",
      "text/plain": [
       "<Figure size 1080x504 with 15 Axes>"
      ]
     },
     "metadata": {
      "needs_background": "light"
     },
     "output_type": "display_data"
    }
   ],
   "source": [
    "# I haven't searched for interesting features, just took some\n",
    "features = ['f_0', 'f_1', 'f_40', 'f_80', 'f_95',\n",
    "            'f_103', 'f_130', 'f_155', 'f_180', 'f_201', \n",
    "            'f_222','f_246', 'f_277', 'f_298','f_299']\n",
    "fig, ax = plt.subplots(3, 5, figsize=(15, 7))\n",
    "for i in range(15):\n",
    "    ax[i//5][i%5].hist(df[features[i]], bins=200)\n",
    "    ax[i//5][i%5].set_title(features[i])\n",
    "plt.tight_layout()"
   ]
  },
  {
   "cell_type": "markdown",
   "id": "8c053387",
   "metadata": {},
   "source": [
    "### Some guys (f_298) are having too much 0s, let's see"
   ]
  },
  {
   "cell_type": "code",
   "execution_count": 7,
   "id": "9497efe9",
   "metadata": {
    "scrolled": true
   },
   "outputs": [
    {
     "data": {
      "text/plain": [
       "0.000     29359\n",
       "-4.264       25\n",
       "-4.754       17\n",
       "-1.906       12\n",
       "-3.814       12\n",
       "          ...  \n",
       "-0.710        1\n",
       "-2.124        1\n",
       "-0.627        1\n",
       "0.693         1\n",
       "-0.090        1\n",
       "Name: f_0, Length: 3030032, dtype: int64"
      ]
     },
     "execution_count": 7,
     "metadata": {},
     "output_type": "execute_result"
    }
   ],
   "source": [
    "df.f_0.value_counts()"
   ]
  },
  {
   "cell_type": "code",
   "execution_count": 8,
   "id": "7b6671c0",
   "metadata": {
    "scrolled": true
   },
   "outputs": [
    {
     "name": "stderr",
     "output_type": "stream",
     "text": [
      "100%|██████████| 300/300 [02:40<00:00,  1.86it/s]\n"
     ]
    }
   ],
   "source": [
    "differences = []\n",
    "for i in tqdm(range(300)):\n",
    "    two_most = df[f\"f_{i}\"].value_counts().iloc[:2]\n",
    "    difference = two_most.iloc[0] - two_most.iloc[1]\n",
    "    if difference > 5000:\n",
    "        assert two_most.index[0] == 0\n",
    "        differences.append(difference)"
   ]
  },
  {
   "cell_type": "code",
   "execution_count": 9,
   "id": "ba5a5284",
   "metadata": {
    "scrolled": false
   },
   "outputs": [
    {
     "data": {
      "text/plain": [
       "[]"
      ]
     },
     "execution_count": 9,
     "metadata": {},
     "output_type": "execute_result"
    },
    {
     "data": {
      "image/png": "[encoded data removed]",
      "text/plain": [
       "<Figure size 432x288 with 1 Axes>"
      ]
     },
     "metadata": {
      "needs_background": "light"
     },
     "output_type": "display_data"
    }
   ],
   "source": [
    "plt.hist(differences, bins=100)\n",
    "plt.title(\"Number of zeros in features histogram\")\n",
    "plt.plot()"
   ]
  },
  {
   "cell_type": "markdown",
   "id": "64478354",
   "metadata": {},
   "source": [
    "44 features have more than 5000 0s (I basically computed how many features are there which have the most common value of 0 and the second common value having less occurences than 0s do by 5000)"
   ]
  },
  {
   "cell_type": "code",
   "execution_count": 10,
   "id": "0849769d",
   "metadata": {},
   "outputs": [
    {
     "data": {
      "text/plain": [
       "44"
      ]
     },
     "execution_count": 10,
     "metadata": {},
     "output_type": "execute_result"
    }
   ],
   "source": [
    "len(differences)"
   ]
  }
 ],
 "metadata": {
  "kernelspec": {
   "display_name": "base",
   "language": "python",
   "name": "base"
  },
  "language_info": {
   "codemirror_mode": {
    "name": "ipython",
    "version": 3
   },
   "file_extension": ".py",
   "mimetype": "text/x-python",
   "name": "python",
   "nbconvert_exporter": "python",
   "pygments_lexer": "ipython3",
   "version": "3.8.12"
  }
 },
 "nbformat": 4,
 "nbformat_minor": 5
}
