{
 "cells": [
  {
   "cell_type": "markdown",
   "id": "08aa7881",
   "metadata": {},
   "source": [
    "### 0. Prerequisites"
   ]
  },
  {
   "cell_type": "code",
   "execution_count": 1,
   "id": "edfa6f82",
   "metadata": {},
   "outputs": [],
   "source": [
    "import os \n",
    "import time\n",
    "import torch\n",
    "import optuna\n",
    "import joblib\n",
    "import pandas as pd\n",
    "import numpy as np\n",
    "import matplotlib.pyplot as plt\n",
    "\n",
    "from scipy import stats\n",
    "from tqdm import tqdm\n",
    "from dotenv import load_dotenv\n",
    "from torch import nn\n",
    "from torch.optim import lr_scheduler\n",
    "from collections import OrderedDict\n",
    "\n",
    "from src.metrics import pearson_metric\n",
    "from src.torch_models import MLPAE\n",
    "from src.data import Dataset, load_data"
   ]
  },
  {
   "cell_type": "code",
   "execution_count": 2,
   "id": "c348e122",
   "metadata": {},
   "outputs": [
    {
     "data": {
      "text/plain": [
       "True"
      ]
     },
     "execution_count": 2,
     "metadata": {},
     "output_type": "execute_result"
    }
   ],
   "source": [
    "load_dotenv()"
   ]
  },
  {
   "cell_type": "code",
   "execution_count": 3,
   "id": "371536eb",
   "metadata": {},
   "outputs": [],
   "source": [
    "DEVICE = \"cuda:0\"\n",
    "EPOCHS = 150\n",
    "EXPERIMENT = \"VAE\""
   ]
  },
  {
   "cell_type": "markdown",
   "id": "cb2fd25b",
   "metadata": {},
   "source": [
    "### 1. Data preparation"
   ]
  },
  {
   "cell_type": "code",
   "execution_count": 4,
   "id": "4b28b5a2",
   "metadata": {},
   "outputs": [
    {
     "name": "stdout",
     "output_type": "stream",
     "text": [
      "Loading took 6.31 seconds\n"
     ]
    }
   ],
   "source": [
    "trainloader, _ = load_data(use_feather=True, split_data=False)"
   ]
  },
  {
   "cell_type": "markdown",
   "id": "60e05923",
   "metadata": {},
   "source": [
    "### 2. Building a Model."
   ]
  },
  {
   "cell_type": "code",
   "execution_count": 5,
   "id": "04ec05dc",
   "metadata": {},
   "outputs": [],
   "source": [
    "class BlockAE(nn.Module):\n",
    "    def __init__(self, input_dim, output_dim, activation):\n",
    "        super(BlockAE, self).__init__()\n",
    "        self.main = nn.Sequential(\n",
    "            nn.Linear(input_dim, output_dim),\n",
    "            activation()\n",
    "        )\n",
    "        \n",
    "    def forward(self, x):\n",
    "        out = self.main(x)\n",
    "        return out"
   ]
  },
  {
   "cell_type": "code",
   "execution_count": 6,
   "id": "8eece0ce",
   "metadata": {},
   "outputs": [],
   "source": [
    "class VAE(nn.Module):\n",
    "    \n",
    "    def __init__(self, layers, dim, activation=nn.ReLU):\n",
    "        super(VAE, self).__init__()\n",
    "        self.layers = layers\n",
    "        self.dim = dim\n",
    "        self.activation = activation\n",
    "        \n",
    "        self.encoder = self.__build_encoder()\n",
    "        self.decoder = self.__build_decoder()\n",
    "\n",
    "    def __build_encoder(self):\n",
    "        layers = self.layers\n",
    "        activation = self.activation\n",
    "        encoder_layers = []\n",
    "        for idx in range(len(layers) - 1):\n",
    "            layer = BlockAE(layers[idx], layers[idx + 1], activation)\n",
    "            encoder_layers.append(layer)\n",
    "        encoder_layers.append(nn.Linear(layers[-1], self.dim * 2))\n",
    "        return torch.nn.Sequential(*encoder_layers)\n",
    "    \n",
    "    def __build_decoder(self):\n",
    "        layers = self.layers[::-1]\n",
    "        activation = self.activation\n",
    "        decoder_layers = [nn.Linear(self.dim, layers[0])]\n",
    "        for idx in range(len(layers) - 1):\n",
    "            layer = BlockAE(layers[idx], layers[idx + 1], activation)\n",
    "            decoder_layers.append(layer)\n",
    "        return torch.nn.Sequential(*decoder_layers)\n",
    "            \n",
    "    \n",
    "    def reparametrize(self, mu, sigma):\n",
    "        if self.training:\n",
    "            std = sigma.mul(0.5).exp_()\n",
    "            eps = std.new_empty(std.size()).normal_()\n",
    "            return eps.mul_(std).add_(mu)\n",
    "        return mu\n",
    "    \n",
    "    def forward(self, x):\n",
    "        bottleneck = self.encoder(x).view(-1, 2, self.dim)\n",
    "        mu, sigma = bottleneck[:, 0, :], bottleneck[:, 1, :]\n",
    "        z = self.reparametrize(mu, sigma)\n",
    "        out = self.decoder(z)\n",
    "        return out, mu, sigma\n"
   ]
  },
  {
   "cell_type": "code",
   "execution_count": 7,
   "id": "c61d639a",
   "metadata": {},
   "outputs": [],
   "source": [
    "def vae_loss(x_hat, x, mu, sigma, beta=1):\n",
    "    bce = nn.MSELoss(reduction='sum')(x_hat, x)\n",
    "    kld = 0.5 * torch.sum(sigma.exp() - sigma - 1 + mu.pow(2))\n",
    "    return bce + beta * kld"
   ]
  },
  {
   "cell_type": "code",
   "execution_count": 8,
   "id": "109f3336",
   "metadata": {},
   "outputs": [],
   "source": [
    "def train(model, criterion, loader, optimizer, investment_id_dropout=0.01, device='cpu'):\n",
    "    model.to(device)\n",
    "    model.train()\n",
    "    \n",
    "    train_loss = 0.0\n",
    "    for i, (_x, _y) in enumerate(loader):\n",
    "        optimizer.zero_grad()\n",
    "        x = torch.cat((_x, torch.unsqueeze(_y, 1)), dim=1)\n",
    "        x = x.to(device)\n",
    "        x_hat, mu, sigma = model(x)\n",
    "        \n",
    "        loss = criterion(x_hat, x, mu, sigma)\n",
    "        train_loss += loss.item()\n",
    "        \n",
    "        loss.backward()\n",
    "        optimizer.step()\n",
    "    return train_loss / len(loader.dataset)"
   ]
  },
  {
   "cell_type": "code",
   "execution_count": 9,
   "id": "74673da5",
   "metadata": {},
   "outputs": [],
   "source": [
    "model = VAE(layers=[302, 256, 128, 64], dim=20).to(DEVICE)"
   ]
  },
  {
   "cell_type": "markdown",
   "id": "87965160",
   "metadata": {},
   "source": [
    "### 3. Training the Model."
   ]
  },
  {
   "cell_type": "code",
   "execution_count": 10,
   "id": "d4933f92",
   "metadata": {},
   "outputs": [],
   "source": [
    "experiment_dir = os.path.join(\"weights\", EXPERIMENT)\n",
    "if not os.path.exists(experiment_dir):\n",
    "    os.makedirs(experiment_dir)"
   ]
  },
  {
   "cell_type": "code",
   "execution_count": 11,
   "id": "9779f3d3",
   "metadata": {},
   "outputs": [],
   "source": [
    "optimizer = torch.optim.AdamW(model.parameters(), lr=1e-3, weight_decay=5e-4)\n",
    "scheduler = torch.optim.lr_scheduler.CosineAnnealingLR(optimizer, T_max=EPOCHS)\n",
    "criterion = vae_loss"
   ]
  },
  {
   "cell_type": "code",
   "execution_count": null,
   "id": "c85a7e3b",
   "metadata": {},
   "outputs": [],
   "source": [
    "losses = []\n",
    "for epoch in range(EPOCHS):\n",
    "    start_execution = time.time()\n",
    "    train_loss = train(model, criterion, trainloader, optimizer, device=DEVICE)\n",
    "    scheduler.step()\n",
    "    print(f\"Epoch: {epoch+1:02d} ({time.time()-start_execution:.1f} s.) | Train: {train_loss:.5f} |\")\n",
    "    \n",
    "    losses.append(train_loss)\n",
    "    if train_loss <= min(losses):\n",
    "        torch.save({\n",
    "            'epoch': epoch,\n",
    "            'model_state_dict': model.state_dict(),\n",
    "            'optimizer_state_dict': optimizer.state_dict(),\n",
    "            'loss': train_loss, \n",
    "        }, os.path.join(experiment_dir, f\"{epoch}.pt\"))"
   ]
  },
  {
   "cell_type": "code",
   "execution_count": 33,
   "id": "f0b66918",
   "metadata": {},
   "outputs": [
    {
     "data": {
      "text/plain": [
       "VAE(\n",
       "  (encoder): Sequential(\n",
       "    (0): BlockAE(\n",
       "      (main): Sequential(\n",
       "        (0): Linear(in_features=302, out_features=256, bias=True)\n",
       "        (1): ReLU()\n",
       "      )\n",
       "    )\n",
       "    (1): BlockAE(\n",
       "      (main): Sequential(\n",
       "        (0): Linear(in_features=256, out_features=128, bias=True)\n",
       "        (1): ReLU()\n",
       "      )\n",
       "    )\n",
       "    (2): BlockAE(\n",
       "      (main): Sequential(\n",
       "        (0): Linear(in_features=128, out_features=64, bias=True)\n",
       "        (1): ReLU()\n",
       "      )\n",
       "    )\n",
       "    (3): Linear(in_features=64, out_features=40, bias=True)\n",
       "  )\n",
       "  (decoder): Sequential(\n",
       "    (0): Linear(in_features=20, out_features=64, bias=True)\n",
       "    (1): BlockAE(\n",
       "      (main): Sequential(\n",
       "        (0): Linear(in_features=64, out_features=128, bias=True)\n",
       "        (1): ReLU()\n",
       "      )\n",
       "    )\n",
       "    (2): BlockAE(\n",
       "      (main): Sequential(\n",
       "        (0): Linear(in_features=128, out_features=256, bias=True)\n",
       "        (1): ReLU()\n",
       "      )\n",
       "    )\n",
       "    (3): BlockAE(\n",
       "      (main): Sequential(\n",
       "        (0): Linear(in_features=256, out_features=302, bias=True)\n",
       "        (1): ReLU()\n",
       "      )\n",
       "    )\n",
       "  )\n",
       ")"
      ]
     },
     "execution_count": 33,
     "metadata": {},
     "output_type": "execute_result"
    }
   ],
   "source": [
    "weights_dir = os.path.join(\"weights\", EXPERIMENT)\n",
    "checkpoint = torch.load(os.path.join(weights_dir, \"1.pt\"))\n",
    "inferenced = VAE(layers=[302, 256, 128, 64], dim=20)\n",
    "inferenced.load_state_dict(checkpoint['model_state_dict'])\n",
    "inferenced.eval()"
   ]
  },
  {
   "cell_type": "code",
   "execution_count": null,
   "id": "4cdba605",
   "metadata": {},
   "outputs": [],
   "source": [
    "z = torch.randn((1, 20))\n",
    "sample = inferenced.decoder(z)\n",
    "print(sample)"
   ]
  }
 ],
 "metadata": {
  "kernelspec": {
   "display_name": "base",
   "language": "python",
   "name": "base"
  },
  "language_info": {
   "codemirror_mode": {
    "name": "ipython",
    "version": 3
   },
   "file_extension": ".py",
   "mimetype": "text/x-python",
   "name": "python",
   "nbconvert_exporter": "python",
   "pygments_lexer": "ipython3",
   "version": "3.8.12"
  }
 },
 "nbformat": 4,
 "nbformat_minor": 5
}
