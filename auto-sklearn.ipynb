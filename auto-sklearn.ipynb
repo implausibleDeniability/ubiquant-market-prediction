{
 "cells": [
  {
   "cell_type": "code",
   "execution_count": 1,
   "id": "413c439e",
   "metadata": {},
   "outputs": [
    {
     "data": {
      "text/plain": [
       "True"
      ]
     },
     "execution_count": 1,
     "metadata": {},
     "output_type": "execute_result"
    }
   ],
   "source": [
    "import os\n",
    "import pandas as pd\n",
    "import numpy as np\n",
    "from scipy import stats\n",
    "from pathlib import Path\n",
    "from dotenv import load_dotenv\n",
    "\n",
    "from src.metrics import pearson_metric\n",
    "from src.feature_engineering import features_pca\n",
    "\n",
    "load_dotenv()"
   ]
  },
  {
   "cell_type": "code",
   "execution_count": null,
   "id": "cacb3f7e",
   "metadata": {},
   "outputs": [],
   "source": [
    "dataset_dir = Path(os.environ['dataset_dir'])\n",
    "full_data = pd.read_feather(dataset_dir / 'train32.feather')\n",
    "sample_data = pd.read_csv(dataset_dir / 'train_sample.csv', index_col=0)"
   ]
  },
  {
   "cell_type": "code",
   "execution_count": null,
   "id": "4108655b",
   "metadata": {
    "scrolled": true
   },
   "outputs": [],
   "source": [
    "data = full_data"
   ]
  },
  {
   "cell_type": "code",
   "execution_count": null,
   "id": "b37d4c3d",
   "metadata": {},
   "outputs": [],
   "source": [
    "# data = data.set_index('row_id')"
   ]
  },
  {
   "cell_type": "code",
   "execution_count": null,
   "id": "7e01dd8c",
   "metadata": {},
   "outputs": [],
   "source": [
    "# train on earlier data, test on later data\n",
    "train = data[data.time_id < 1000]\n",
    "test = data.query(\"1000 <= time_id\")\n",
    "\n",
    "x_train, y_train = train.drop('target', axis=1), train[['time_id', 'target']]\n",
    "x_test, y_test = test.drop('target', axis=1), test[['time_id', 'target']]"
   ]
  },
  {
   "cell_type": "code",
   "execution_count": null,
   "id": "494c5a21",
   "metadata": {
    "scrolled": true
   },
   "outputs": [],
   "source": [
    "from sklearn.model_selection import TimeSeriesSplit\n",
    "N_INVESTMENTS = 3579\n",
    "tss = TimeSeriesSplit(n_splits=2, max_train_size=1772778, gap=N_INVESTMENTS)"
   ]
  },
  {
   "cell_type": "code",
   "execution_count": null,
   "id": "989c20f7",
   "metadata": {},
   "outputs": [],
   "source": [
    "from autosklearn.regression import AutoSklearnRegressor\n",
    "model = AutoSklearnRegressor(\n",
    "    time_left_for_this_task=150*3600,\n",
    "    per_run_time_limit=2400,\n",
    "    memory_limit=300*1024,\n",
    "    resampling_strategy=tss,\n",
    ")"
   ]
  },
  {
   "cell_type": "code",
   "execution_count": null,
   "id": "6b74b479",
   "metadata": {},
   "outputs": [],
   "source": [
    "model.fit(x_train, y_train.target)"
   ]
  },
  {
   "cell_type": "code",
   "execution_count": 12,
   "id": "1243d0c5",
   "metadata": {},
   "outputs": [
    {
     "name": "stdout",
     "output_type": "stream",
     "text": [
      "          rank  ensemble_weight            type      cost     duration\n",
      "model_id                                                              \n",
      "335          1             0.14   liblinear_svr  0.988336  1598.138604\n",
      "370          2             0.10   liblinear_svr  0.988367  1419.799253\n",
      "163          3             0.10             sgd  0.989029   719.830871\n",
      "219          4             0.04  ard_regression  0.989237   331.501770\n",
      "350          5             0.08   liblinear_svr  0.990235   357.218997\n",
      "379          6             0.02  ard_regression  0.990278   774.472420\n",
      "43           7             0.04   liblinear_svr  0.994438  1724.092822\n",
      "169          8             0.04   liblinear_svr  0.994505   357.787291\n",
      "135          9             0.02   liblinear_svr  0.996758  1859.565843\n",
      "37          10             0.02   decision_tree  0.997795   262.276921\n",
      "224         11             0.02   decision_tree  0.997795   636.084652\n",
      "226         12             0.02   decision_tree  0.997795  1755.752579\n",
      "111         13             0.12             sgd  0.998388   777.948060\n",
      "342         14             0.24             mlp  0.999165  2360.683748\n"
     ]
    }
   ],
   "source": [
    "print(model.leaderboard())"
   ]
  },
  {
   "cell_type": "code",
   "execution_count": null,
   "id": "8bb4b63a",
   "metadata": {},
   "outputs": [],
   "source": [
    "model.refit(x_train, y_train.target)\n",
    "refit_y_pred = model.predict(x_test)"
   ]
  },
  {
   "cell_type": "code",
   "execution_count": 13,
   "id": "bb105c4e",
   "metadata": {
    "scrolled": true
   },
   "outputs": [
    {
     "data": {
      "text/plain": [
       "0.11552864162196788"
      ]
     },
     "execution_count": 13,
     "metadata": {},
     "output_type": "execute_result"
    }
   ],
   "source": [
    "y_pred = pd.DataFrame({'target': refit_y_pred}, index=x_test.index)\n",
    "rmse = np.mean(np.sqrt((y_pred.target - y_test.target) ** 2))\n",
    "pearson_metric(y_test, y_pred)"
   ]
  },
  {
   "cell_type": "code",
   "execution_count": null,
   "id": "3d883a06",
   "metadata": {},
   "outputs": [],
   "source": []
  }
 ],
 "metadata": {
  "kernelspec": {
   "display_name": "base",
   "language": "python",
   "name": "base"
  },
  "language_info": {
   "codemirror_mode": {
    "name": "ipython",
    "version": 3
   },
   "file_extension": ".py",
   "mimetype": "text/x-python",
   "name": "python",
   "nbconvert_exporter": "python",
   "pygments_lexer": "ipython3",
   "version": "3.8.12"
  }
 },
 "nbformat": 4,
 "nbformat_minor": 5
}
