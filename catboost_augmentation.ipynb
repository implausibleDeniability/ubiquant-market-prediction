{
 "cells": [
  {
   "cell_type": "code",
   "execution_count": 1,
   "id": "413c439e",
   "metadata": {},
   "outputs": [
    {
     "data": {
      "text/plain": [
       "True"
      ]
     },
     "execution_count": 1,
     "metadata": {},
     "output_type": "execute_result"
    }
   ],
   "source": [
    "import os\n",
    "import pandas as pd\n",
    "import numpy as np\n",
    "from scipy import stats\n",
    "from pathlib import Path\n",
    "from dotenv import load_dotenv\n",
    "\n",
    "from src.metrics import pearson_metric\n",
    "from src.feature_engineering import compute_kmeans_clusters\n",
    "from src.augmentations import mixup\n",
    "\n",
    "load_dotenv()"
   ]
  },
  {
   "cell_type": "code",
   "execution_count": 2,
   "id": "cacb3f7e",
   "metadata": {},
   "outputs": [
    {
     "name": "stdout",
     "output_type": "stream",
     "text": [
      "CPU times: user 2min 38s, sys: 11.7 s, total: 2min 50s\n",
      "Wall time: 2min 50s\n"
     ]
    }
   ],
   "source": [
    "%%time\n",
    "dataset_dir = Path(os.environ['dataset_dir'])\n",
    "full_data = pd.read_csv(dataset_dir / 'train.csv')\n",
    "sample_data = pd.read_csv(dataset_dir / 'train_sample.csv', index_col=0)"
   ]
  },
  {
   "cell_type": "code",
   "execution_count": 3,
   "id": "4108655b",
   "metadata": {
    "scrolled": true
   },
   "outputs": [],
   "source": [
    "data = full_data"
   ]
  },
  {
   "cell_type": "code",
   "execution_count": 4,
   "id": "b37d4c3d",
   "metadata": {},
   "outputs": [],
   "source": [
    "data = data.set_index('row_id')"
   ]
  },
  {
   "cell_type": "code",
   "execution_count": 5,
   "id": "7e01dd8c",
   "metadata": {},
   "outputs": [],
   "source": [
    "# train on earlier data, test on later data\n",
    "train = data[data.time_id < 1000]\n",
    "test = data.query(\"1000 <= time_id\")\n",
    "\n",
    "x_train, y_train = train.drop('target', axis=1), train[['time_id', 'target']]\n",
    "x_test, y_test = test.drop('target', axis=1), test[['time_id', 'target']]"
   ]
  },
  {
   "cell_type": "code",
   "execution_count": 6,
   "id": "e4369332",
   "metadata": {},
   "outputs": [],
   "source": [
    "x_train_aug, y_train_aug = mixup(x_train, y_train, n_samples=1000000)"
   ]
  },
  {
   "cell_type": "code",
   "execution_count": 7,
   "id": "b2c9d928",
   "metadata": {},
   "outputs": [],
   "source": [
    "x_train_aug = pd.concat([x_train, x_train_aug], axis=0)\n",
    "y_train_aug = pd.concat([y_train, y_train_aug], axis=0)"
   ]
  },
  {
   "cell_type": "code",
   "execution_count": 8,
   "id": "9da28742",
   "metadata": {},
   "outputs": [],
   "source": [
    "from catboost import CatBoostRegressor, Pool\n",
    "def evaluate_model(x_train, x_test, y_train, y_test):\n",
    "    train_pool = Pool(x_train.drop('time_id', axis=1), y_train.target, cat_features=['investment_id'])\n",
    "\n",
    "    model = CatBoostRegressor(\n",
    "        iterations=1000,\n",
    "        random_state=0,\n",
    "        cat_features=['investment_id'], \n",
    "        verbose=200,\n",
    "        task_type='GPU',\n",
    "        devices='0:2',\n",
    "        grow_policy='SymmetricTree',\n",
    "        bootstrap_type=\"Bernoulli\",\n",
    "        max_depth=3,\n",
    "    )\n",
    "    model = model.fit(train_pool)\n",
    "    \n",
    "    test_pool = Pool(x_test, cat_features=['investment_id'])\n",
    "    y_pred = model.predict(test_pool)\n",
    "    y_pred = pd.DataFrame({'target': y_pred}, index=x_test.index)\n",
    "    rmse = np.sqrt(np.mean((y_pred.target - y_test.target) ** 2))\n",
    "    return rmse, pearson_metric(y_test, y_pred), model\n",
    "    "
   ]
  },
  {
   "cell_type": "code",
   "execution_count": 9,
   "id": "bb105c4e",
   "metadata": {
    "scrolled": false
   },
   "outputs": [
    {
     "name": "stdout",
     "output_type": "stream",
     "text": [
      "Learning rate set to 0.117352\n",
      "0:\tlearn: 0.9233214\ttotal: 32.8ms\tremaining: 32.8s\n",
      "200:\tlearn: 0.9140832\ttotal: 8.91s\tremaining: 35.4s\n",
      "400:\tlearn: 0.9112620\ttotal: 19.9s\tremaining: 29.8s\n",
      "600:\tlearn: 0.9091453\ttotal: 31.8s\tremaining: 21.1s\n",
      "800:\tlearn: 0.9074304\ttotal: 42s\tremaining: 10.4s\n",
      "999:\tlearn: 0.9059772\ttotal: 50.8s\tremaining: 0us\n",
      "RMSE: 0.8975728572393166, Pearson: 0.12566607879912992\n"
     ]
    }
   ],
   "source": [
    "rmse, pearson, model = evaluate_model(\n",
    "    x_train_aug, \n",
    "    x_test, \n",
    "    y_train_aug, \n",
    "    y_test\n",
    ")\n",
    "print(f\"RMSE: {rmse}, Pearson: {pearson}\")"
   ]
  },
  {
   "cell_type": "code",
   "execution_count": 10,
   "id": "a4cd5c64",
   "metadata": {},
   "outputs": [
    {
     "name": "stdout",
     "output_type": "stream",
     "text": [
      "Learning rate set to 0.112177\n",
      "0:\tlearn: 0.9234837\ttotal: 23.8ms\tremaining: 23.8s\n",
      "200:\tlearn: 0.9143276\ttotal: 7.75s\tremaining: 30.8s\n",
      "400:\tlearn: 0.9116920\ttotal: 14.5s\tremaining: 21.7s\n",
      "600:\tlearn: 0.9096672\ttotal: 24.1s\tremaining: 16s\n",
      "800:\tlearn: 0.9080123\ttotal: 32.4s\tremaining: 8.05s\n",
      "999:\tlearn: 0.9066162\ttotal: 40.8s\tremaining: 0us\n",
      "RMSE: 0.8975013110027095, Pearson: 0.12520946281322876\n"
     ]
    }
   ],
   "source": [
    "rmse, pearson, model = evaluate_model(\n",
    "    x_train, \n",
    "    x_test, \n",
    "    y_train, \n",
    "    y_test,\n",
    ")\n",
    "print(f\"RMSE: {rmse}, Pearson: {pearson}\")"
   ]
  }
 ],
 "metadata": {
  "kernelspec": {
   "display_name": "crystalvae",
   "language": "python",
   "name": "crystalvae"
  },
  "language_info": {
   "codemirror_mode": {
    "name": "ipython",
    "version": 3
   },
   "file_extension": ".py",
   "mimetype": "text/x-python",
   "name": "python",
   "nbconvert_exporter": "python",
   "pygments_lexer": "ipython3",
   "version": "3.6.13"
  }
 },
 "nbformat": 4,
 "nbformat_minor": 5
}
