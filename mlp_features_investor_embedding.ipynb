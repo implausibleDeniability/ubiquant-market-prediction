{
 "cells": [
  {
   "cell_type": "code",
   "execution_count": 1,
   "id": "413c439e",
   "metadata": {
    "scrolled": true
   },
   "outputs": [
    {
     "data": {
      "text/plain": [
       "True"
      ]
     },
     "execution_count": 1,
     "metadata": {},
     "output_type": "execute_result"
    }
   ],
   "source": [
    "import os\n",
    "import pandas as pd\n",
    "import numpy as np\n",
    "from scipy import stats\n",
    "from pathlib import Path\n",
    "from dotenv import load_dotenv\n",
    "from tqdm import tqdm\n",
    "import wandb\n",
    "\n",
    "import torch\n",
    "from torch import nn\n",
    "from torch.utils.data import DataLoader\n",
    "\n",
    "from src.metrics import pearson_metric\n",
    "from src.torch_models import EmbedMLP\n",
    "from src.data import Dataset\n",
    "\n",
    "\n",
    "load_dotenv()"
   ]
  },
  {
   "cell_type": "code",
   "execution_count": 2,
   "id": "5642a15f",
   "metadata": {},
   "outputs": [],
   "source": [
    "device = \"cuda:2\""
   ]
  },
  {
   "cell_type": "markdown",
   "id": "93eb6c7d",
   "metadata": {},
   "source": [
    "# Hyperparameters"
   ]
  },
  {
   "cell_type": "code",
   "execution_count": 3,
   "id": "7fd8ac33",
   "metadata": {},
   "outputs": [],
   "source": [
    "batch_size = 100000\n",
    "epochs = 20\n",
    "investment_id_dropout = 0.01"
   ]
  },
  {
   "cell_type": "markdown",
   "id": "cb2fd25b",
   "metadata": {},
   "source": [
    "# Data preparation"
   ]
  },
  {
   "cell_type": "code",
   "execution_count": 4,
   "id": "cacb3f7e",
   "metadata": {},
   "outputs": [],
   "source": [
    "dataset_dir = Path(os.environ['dataset_dir'])\n",
    "data = pd.read_csv(dataset_dir / 'train.csv')"
   ]
  },
  {
   "cell_type": "code",
   "execution_count": 5,
   "id": "b37d4c3d",
   "metadata": {},
   "outputs": [],
   "source": [
    "data = data.set_index('row_id')"
   ]
  },
  {
   "cell_type": "code",
   "execution_count": 6,
   "id": "0e5d5896",
   "metadata": {},
   "outputs": [],
   "source": [
    "# investment ids start from 0, but I need the 0th investment to be \"unseen\" investment\n",
    "# that we will use if the new (unseen) investment in the test set arises\n",
    "data.investment_id += 1"
   ]
  },
  {
   "cell_type": "code",
   "execution_count": 7,
   "id": "7e01dd8c",
   "metadata": {},
   "outputs": [],
   "source": [
    "# train on earlier data, test on later data\n",
    "train = data[data.time_id < 1000]\n",
    "test = data.query(\"1000 <= time_id\")"
   ]
  },
  {
   "cell_type": "code",
   "execution_count": 8,
   "id": "3ade85c8",
   "metadata": {
    "scrolled": true
   },
   "outputs": [],
   "source": [
    "learned_investments = train.investment_id.unique()\n",
    "new_investments_in_test = test.query(\"investment_id not in @learned_investments\").index\n",
    "test.loc[new_investments_in_test].investment_id = 0"
   ]
  },
  {
   "cell_type": "code",
   "execution_count": 9,
   "id": "8ae6ffe0",
   "metadata": {},
   "outputs": [],
   "source": [
    "train_dataset = Dataset(train.drop(\"time_id\", axis=1))\n",
    "test_dataset = Dataset(test.drop(\"time_id\", axis=1))"
   ]
  },
  {
   "cell_type": "markdown",
   "id": "05f6d566",
   "metadata": {},
   "source": [
    "# Configure Training"
   ]
  },
  {
   "cell_type": "code",
   "execution_count": 19,
   "id": "4525f7f6",
   "metadata": {},
   "outputs": [],
   "source": [
    "train_dataloader = DataLoader(train_dataset, batch_size=batch_size)\n",
    "test_dataloader = DataLoader(test_dataset, batch_size=batch_size)"
   ]
  },
  {
   "cell_type": "code",
   "execution_count": 20,
   "id": "a2a6c9c2",
   "metadata": {},
   "outputs": [],
   "source": [
    "model = EmbedMLP(input_dim=301, num_embeddings=3775).to(device)\n",
    "optimizer = torch.optim.AdamW(model.parameters(), lr=1e-3)\n",
    "loss_function = nn.MSELoss()"
   ]
  },
  {
   "cell_type": "code",
   "execution_count": 21,
   "id": "15cabb71",
   "metadata": {},
   "outputs": [
    {
     "data": {
      "text/html": [
       "Finishing last run (ID:30dmysgi) before initializing another..."
      ],
      "text/plain": [
       "<IPython.core.display.HTML object>"
      ]
     },
     "metadata": {},
     "output_type": "display_data"
    },
    {
     "data": {
      "text/html": [
       "<br/>Waiting for W&B process to finish, PID 7771... <strong style=\"color:green\">(success).</strong>"
      ],
      "text/plain": [
       "<IPython.core.display.HTML object>"
      ]
     },
     "metadata": {},
     "output_type": "display_data"
    },
    {
     "data": {
      "text/html": [
       "<style>\n",
       "    table.wandb td:nth-child(1) { padding: 0 10px; text-align: right }\n",
       "    .wandb-row { display: flex; flex-direction: row; flex-wrap: wrap; width: 100% }\n",
       "    .wandb-col { display: flex; flex-direction: column; flex-basis: 100%; flex: 1; padding: 10px; }\n",
       "    </style>\n",
       "<div class=\"wandb-row\"><div class=\"wandb-col\">\n",
       "<h3>Run history:</h3><br/><table class=\"wandb\"><tr><td>test_loss</td><td>█▅▂▁▁▁</td></tr><tr><td>train_loss</td><td>█▂▂▁▁▁</td></tr></table><br/></div><div class=\"wandb-col\">\n",
       "<h3>Run summary:</h3><br/><table class=\"wandb\"><tr><td>test_loss</td><td>0.8212</td></tr><tr><td>train_loss</td><td>0.83358</td></tr></table>\n",
       "</div></div>\n",
       "Synced 6 W&B file(s), 0 media file(s), 0 artifact file(s) and 0 other file(s)\n",
       "<br/>Synced <strong style=\"color:#cdcd00\">mlp_emb</strong>: <a href=\"https://wandb.ai/parmezano/market_prediction/runs/30dmysgi\" target=\"_blank\">https://wandb.ai/parmezano/market_prediction/runs/30dmysgi</a><br/>\n",
       "Find logs at: <code>./wandb/run-20220129_144138-30dmysgi/logs</code><br/>\n"
      ],
      "text/plain": [
       "<IPython.core.display.HTML object>"
      ]
     },
     "metadata": {},
     "output_type": "display_data"
    },
    {
     "data": {
      "text/html": [
       "Successfully finished last run (ID:30dmysgi). Initializing new run:<br/>"
      ],
      "text/plain": [
       "<IPython.core.display.HTML object>"
      ]
     },
     "metadata": {},
     "output_type": "display_data"
    },
    {
     "data": {
      "text/html": [
       "\n",
       "                    Syncing run <strong><a href=\"https://wandb.ai/parmezano/market_prediction/runs/jy8esw9u\" target=\"_blank\">mlp_emb</a></strong> to <a href=\"https://wandb.ai/parmezano/market_prediction\" target=\"_blank\">Weights & Biases</a> (<a href=\"https://docs.wandb.com/integrations/jupyter.html\" target=\"_blank\">docs</a>).<br/>\n",
       "\n",
       "                "
      ],
      "text/plain": [
       "<IPython.core.display.HTML object>"
      ]
     },
     "metadata": {},
     "output_type": "display_data"
    },
    {
     "data": {
      "text/html": [
       "<button onClick=\"this.nextSibling.style.display='block';this.style.display='none';\">Display W&B run</button><iframe src=\"https://wandb.ai/parmezano/market_prediction/runs/jy8esw9u?jupyter=true\" style=\"border:none;width:100%;height:420px;display:none;\"></iframe>"
      ],
      "text/plain": [
       "<wandb.sdk.wandb_run.Run at 0x7f417ddf66a0>"
      ]
     },
     "execution_count": 21,
     "metadata": {},
     "output_type": "execute_result"
    }
   ],
   "source": [
    "wandb.init(project=\"market_prediction\", entity=\"parmezano\", name='mlp_emb')"
   ]
  },
  {
   "cell_type": "markdown",
   "id": "c8d92df2",
   "metadata": {},
   "source": [
    "# Training"
   ]
  },
  {
   "cell_type": "code",
   "execution_count": null,
   "id": "cb25b667",
   "metadata": {},
   "outputs": [
    {
     "name": "stderr",
     "output_type": "stream",
     "text": [
      "100%|██████████| 25/25 [00:19<00:00,  1.28it/s]\n",
      "100%|██████████| 8/8 [00:04<00:00,  1.73it/s]\n",
      "100%|██████████| 25/25 [00:19<00:00,  1.30it/s]\n",
      "100%|██████████| 8/8 [00:04<00:00,  1.72it/s]\n",
      "100%|██████████| 25/25 [00:19<00:00,  1.30it/s]\n",
      "100%|██████████| 8/8 [00:04<00:00,  1.73it/s]\n",
      "100%|██████████| 25/25 [00:19<00:00,  1.30it/s]\n",
      "100%|██████████| 8/8 [00:04<00:00,  1.65it/s]\n",
      "100%|██████████| 25/25 [00:19<00:00,  1.28it/s]\n",
      "100%|██████████| 8/8 [00:04<00:00,  1.70it/s]\n",
      "100%|██████████| 25/25 [00:19<00:00,  1.30it/s]\n",
      "100%|██████████| 8/8 [00:04<00:00,  1.69it/s]\n",
      "100%|██████████| 25/25 [00:19<00:00,  1.29it/s]\n",
      "100%|██████████| 8/8 [00:04<00:00,  1.70it/s]\n",
      "100%|██████████| 25/25 [00:19<00:00,  1.28it/s]\n",
      "100%|██████████| 8/8 [00:04<00:00,  1.64it/s]\n",
      "100%|██████████| 25/25 [00:19<00:00,  1.26it/s]\n",
      "100%|██████████| 8/8 [00:04<00:00,  1.70it/s]\n",
      "100%|██████████| 25/25 [00:19<00:00,  1.28it/s]\n",
      "100%|██████████| 8/8 [00:05<00:00,  1.54it/s]\n",
      "100%|██████████| 25/25 [00:21<00:00,  1.15it/s]\n",
      "100%|██████████| 8/8 [00:04<00:00,  1.66it/s]\n",
      "100%|██████████| 25/25 [00:20<00:00,  1.20it/s]\n",
      "100%|██████████| 8/8 [00:05<00:00,  1.60it/s]\n",
      "100%|██████████| 25/25 [00:19<00:00,  1.26it/s]\n",
      "100%|██████████| 8/8 [00:04<00:00,  1.69it/s]\n",
      "100%|██████████| 25/25 [00:19<00:00,  1.27it/s]\n",
      "100%|██████████| 8/8 [00:04<00:00,  1.69it/s]\n",
      "100%|██████████| 25/25 [00:19<00:00,  1.27it/s]\n",
      "100%|██████████| 8/8 [00:04<00:00,  1.66it/s]\n",
      "100%|██████████| 25/25 [00:19<00:00,  1.26it/s]\n",
      "100%|██████████| 8/8 [00:04<00:00,  1.65it/s]\n",
      "100%|██████████| 25/25 [00:19<00:00,  1.27it/s]\n",
      "100%|██████████| 8/8 [00:04<00:00,  1.70it/s]\n",
      "100%|██████████| 25/25 [00:19<00:00,  1.29it/s]\n",
      "100%|██████████| 8/8 [00:04<00:00,  1.70it/s]\n",
      " 48%|████▊     | 12/25 [00:09<00:10,  1.25it/s]"
     ]
    }
   ],
   "source": [
    "for i in range(epochs):\n",
    "    model.train()\n",
    "    train_losses = []\n",
    "    for batch in tqdm(train_dataloader):\n",
    "        optimizer.zero_grad()\n",
    "        x, y_true = batch\n",
    "        # drop some investment ids\n",
    "        x[:, 0] *= (torch.rand(len(x)) > investment_id_dropout)\n",
    "        \n",
    "        x = x.to(device)\n",
    "        y_true = y_true.to(device)\n",
    "        y_pred = model(x)\n",
    "        loss = loss_function(y_true, y_pred.view(-1))\n",
    "        loss.backward()\n",
    "        optimizer.step()\n",
    "        train_losses.append(loss.item())\n",
    "        \n",
    "    model.eval()\n",
    "    test_losses = []\n",
    "    with torch.no_grad():\n",
    "        for batch in tqdm(test_dataloader):\n",
    "            x, y_true = batch[0].to(device), batch[1].to(device)\n",
    "            y_pred = model(x)\n",
    "            loss = loss_function(y_true, y_pred.view(-1))\n",
    "            test_losses.append(loss.item())\n",
    "    wandb.log({\"train_loss\": np.mean(train_losses, axis=0), \"test_loss\": np.mean(test_losses, axis=0)})"
   ]
  }
 ],
 "metadata": {
  "kernelspec": {
   "display_name": "base",
   "language": "python",
   "name": "base"
  },
  "language_info": {
   "codemirror_mode": {
    "name": "ipython",
    "version": 3
   },
   "file_extension": ".py",
   "mimetype": "text/x-python",
   "name": "python",
   "nbconvert_exporter": "python",
   "pygments_lexer": "ipython3",
   "version": "3.8.12"
  }
 },
 "nbformat": 4,
 "nbformat_minor": 5
}
